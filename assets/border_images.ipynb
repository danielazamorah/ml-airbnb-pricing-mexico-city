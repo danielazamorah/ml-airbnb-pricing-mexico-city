{
 "cells": [
  {
   "cell_type": "code",
   "execution_count": null,
   "metadata": {},
   "outputs": [],
   "source": [
    "from PIL import Image, ImageDraw, ImageOps\n",
    "import os\n",
    "\n",
    "def add_rounded_border(input_image_path, output_image_path, border_size, border_color, corner_radius):\n",
    "    # Open the original image\n",
    "    image = Image.open(input_image_path)\n",
    "    if image.mode in ('RGBA', 'LA') or (image.mode == 'P' and 'transparency' in image.info):\n",
    "        # Create a new image with transparent background and a larger size for the border\n",
    "        new_size = (image.size[0] + 2 * border_size, image.size[1] + 2 * border_size)\n",
    "        new_image = Image.new(\"RGBA\", new_size, color=(0, 0, 0, 0))\n",
    "\n",
    "        # Create a rounded rectangle mask for the border\n",
    "        mask = Image.new('L', new_size, 0)\n",
    "        draw = ImageDraw.Draw(mask)\n",
    "        draw.rounded_rectangle([(0, 0), new_size], corner_radius, fill=255)\n",
    "\n",
    "        # Paste the rounded rectangle onto the new image using the alpha channel as a mask\n",
    "        border_image = Image.new(\"RGBA\", new_size, border_color)\n",
    "        new_image.paste(border_image, mask=mask)\n",
    "\n",
    "        # Paste the original image onto the new image\n",
    "        new_image.paste(image, (border_size, border_size), mask=image)\n",
    "\n",
    "        # Save the result\n",
    "        new_image.save(output_image_path)\n",
    "    else:\n",
    "        raise ValueError(\"Image does not have transparency\")\n",
    "\n",
    "def process_folder(folder_path, border_size, border_color, corner_radius):\n",
    "    for filename in os.listdir(folder_path):\n",
    "        if filename.endswith('.png'):\n",
    "            file_path = os.path.join(folder_path, filename)\n",
    "            file_path_out = os.path.join(folder_path, 'out_'+filename)\n",
    "            add_rounded_border(file_path, file_path_out, border_size, border_color, corner_radius)\n",
    "\n",
    "# Usage\n",
    "folder_path = 'images'  # Replace with your folder path\n",
    "border_size = 50\n",
    "border_color = '#FF5A5F'\n",
    "corner_radius = 50  # Same as border size for a smooth curve\n",
    "process_folder(folder_path, border_size, border_color, corner_radius)"
   ]
  },
  {
   "cell_type": "markdown",
   "metadata": {},
   "source": []
  }
 ],
 "metadata": {
  "kernelspec": {
   "display_name": "env-ml-airbnb",
   "language": "python",
   "name": "env-ml-airbnb"
  }
 },
 "nbformat": 4,
 "nbformat_minor": 4
}
