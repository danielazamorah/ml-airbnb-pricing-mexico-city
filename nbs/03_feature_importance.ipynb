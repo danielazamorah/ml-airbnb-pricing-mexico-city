{
 "cells": [
  {
   "cell_type": "markdown",
   "id": "317c95ca-1452-48f0-b8bd-318ce2784995",
   "metadata": {},
   "source": [
    "# Feature Importance (SHAP)\n",
    "- Docs: https://github.com/shap/shap\n",
    "- Tutorial: [Deep Learning Model Explainability Using SHAP | Explainable AI | Data Science | Machine Learning](https://youtu.be/Ty7qf3mV_Qc?si=nMEEcLIsG_xZgabS)\n",
    "- Explanation: [SHAP values for beginners | What they mean and their applications](https://www.youtube.com/watch?v=MQ6fFDwjuco)"
   ]
  },
  {
   "cell_type": "code",
   "execution_count": null,
   "id": "0592fa76-ab01-402b-99b2-9f6a040876f5",
   "metadata": {},
   "outputs": [],
   "source": [
    "import shap\n",
    "\n",
    "import numpy as np\n",
    "import pandas as pd\n",
    "\n",
    "import tensorflow as tf\n",
    "import keras\n",
    "\n",
    "np.random.seed(42)\n",
    "\n",
    "VERSION = '20240107184239' ## TO DO: Change to your model version (timestamp of your training)"
   ]
  },
  {
   "cell_type": "markdown",
   "id": "04c50e65-bb8a-49b5-a3a3-c49f2f01d8b7",
   "metadata": {},
   "source": [
    "## 1. Read training data"
   ]
  },
  {
   "cell_type": "code",
   "execution_count": null,
   "id": "dbe0e4a1-73eb-4e87-9c4e-1ea23f6af508",
   "metadata": {},
   "outputs": [],
   "source": [
    "numerical = [\n",
    "            'host_response_rate', 'host_acceptance_rate', 'host_total_listings_count',\n",
    "            'accommodates', 'bathroom_qty', 'bedrooms', 'beds',\n",
    "            ]\n",
    "geo = ['latitude','longitude']\n",
    "categorical = [\n",
    "                'host_response_time','host_is_superhost', \n",
    "                'host_verifications_work_email','host_has_profile_pic',\n",
    "                'neighbourhood_cleansed', 'room_type', 'property_description', 'bathroom_type', \n",
    "                'gym','pool','kitchen','parking','washer','dryer','conditioning','heating','workspace',\n",
    "                'tv','hair dryer','iron','hot tub','crib','bbq','fireplace','smoking', 'coffee maker', \n",
    "               'instant_bookable',\n",
    "              ]\n",
    "label=['log_price']"
   ]
  },
  {
   "cell_type": "code",
   "execution_count": null,
   "id": "3f4ce7b7-d818-4ebb-9c1e-0ed2c2f0f306",
   "metadata": {},
   "outputs": [
    {
     "data": {
      "text/html": [
       "<div>\n",
       "<style scoped>\n",
       "    .dataframe tbody tr th:only-of-type {\n",
       "        vertical-align: middle;\n",
       "    }\n",
       "\n",
       "    .dataframe tbody tr th {\n",
       "        vertical-align: top;\n",
       "    }\n",
       "\n",
       "    .dataframe thead th {\n",
       "        text-align: right;\n",
       "    }\n",
       "</style>\n",
       "<table border=\"1\" class=\"dataframe\">\n",
       "  <thead>\n",
       "    <tr style=\"text-align: right;\">\n",
       "      <th></th>\n",
       "      <th>host_response_rate</th>\n",
       "      <th>host_acceptance_rate</th>\n",
       "      <th>host_total_listings_count</th>\n",
       "      <th>accommodates</th>\n",
       "      <th>bathroom_qty</th>\n",
       "      <th>bedrooms</th>\n",
       "      <th>beds</th>\n",
       "      <th>latitude</th>\n",
       "      <th>longitude</th>\n",
       "      <th>host_response_time_within_a_day</th>\n",
       "      <th>...</th>\n",
       "      <th>tv_1</th>\n",
       "      <th>hair dryer_1</th>\n",
       "      <th>iron_1</th>\n",
       "      <th>hot tub_1</th>\n",
       "      <th>crib_1</th>\n",
       "      <th>bbq_1</th>\n",
       "      <th>fireplace_1</th>\n",
       "      <th>smoking_1</th>\n",
       "      <th>coffee maker_1</th>\n",
       "      <th>instant_bookable_True</th>\n",
       "    </tr>\n",
       "  </thead>\n",
       "  <tbody>\n",
       "    <tr>\n",
       "      <th>5434</th>\n",
       "      <td>1.0</td>\n",
       "      <td>0.79</td>\n",
       "      <td>6.0</td>\n",
       "      <td>2.0</td>\n",
       "      <td>1.0</td>\n",
       "      <td>1.0</td>\n",
       "      <td>1.0</td>\n",
       "      <td>19.355921</td>\n",
       "      <td>-99.173973</td>\n",
       "      <td>0.0</td>\n",
       "      <td>...</td>\n",
       "      <td>1.0</td>\n",
       "      <td>0.0</td>\n",
       "      <td>1.0</td>\n",
       "      <td>0.0</td>\n",
       "      <td>0.0</td>\n",
       "      <td>0.0</td>\n",
       "      <td>0.0</td>\n",
       "      <td>0.0</td>\n",
       "      <td>1.0</td>\n",
       "      <td>0.0</td>\n",
       "    </tr>\n",
       "    <tr>\n",
       "      <th>20726</th>\n",
       "      <td>1.0</td>\n",
       "      <td>1.00</td>\n",
       "      <td>1.0</td>\n",
       "      <td>4.0</td>\n",
       "      <td>1.0</td>\n",
       "      <td>1.0</td>\n",
       "      <td>2.0</td>\n",
       "      <td>19.434452</td>\n",
       "      <td>-99.190392</td>\n",
       "      <td>0.0</td>\n",
       "      <td>...</td>\n",
       "      <td>1.0</td>\n",
       "      <td>1.0</td>\n",
       "      <td>1.0</td>\n",
       "      <td>0.0</td>\n",
       "      <td>0.0</td>\n",
       "      <td>0.0</td>\n",
       "      <td>0.0</td>\n",
       "      <td>0.0</td>\n",
       "      <td>1.0</td>\n",
       "      <td>1.0</td>\n",
       "    </tr>\n",
       "    <tr>\n",
       "      <th>24644</th>\n",
       "      <td>1.0</td>\n",
       "      <td>1.00</td>\n",
       "      <td>19.0</td>\n",
       "      <td>4.0</td>\n",
       "      <td>1.0</td>\n",
       "      <td>1.0</td>\n",
       "      <td>2.0</td>\n",
       "      <td>19.428835</td>\n",
       "      <td>-99.167885</td>\n",
       "      <td>0.0</td>\n",
       "      <td>...</td>\n",
       "      <td>1.0</td>\n",
       "      <td>0.0</td>\n",
       "      <td>0.0</td>\n",
       "      <td>0.0</td>\n",
       "      <td>0.0</td>\n",
       "      <td>0.0</td>\n",
       "      <td>0.0</td>\n",
       "      <td>0.0</td>\n",
       "      <td>0.0</td>\n",
       "      <td>1.0</td>\n",
       "    </tr>\n",
       "    <tr>\n",
       "      <th>4991</th>\n",
       "      <td>1.0</td>\n",
       "      <td>1.00</td>\n",
       "      <td>1.0</td>\n",
       "      <td>4.0</td>\n",
       "      <td>2.0</td>\n",
       "      <td>2.0</td>\n",
       "      <td>2.0</td>\n",
       "      <td>19.405701</td>\n",
       "      <td>-99.173172</td>\n",
       "      <td>0.0</td>\n",
       "      <td>...</td>\n",
       "      <td>1.0</td>\n",
       "      <td>1.0</td>\n",
       "      <td>1.0</td>\n",
       "      <td>0.0</td>\n",
       "      <td>0.0</td>\n",
       "      <td>0.0</td>\n",
       "      <td>0.0</td>\n",
       "      <td>0.0</td>\n",
       "      <td>1.0</td>\n",
       "      <td>0.0</td>\n",
       "    </tr>\n",
       "    <tr>\n",
       "      <th>18412</th>\n",
       "      <td>1.0</td>\n",
       "      <td>1.00</td>\n",
       "      <td>224.0</td>\n",
       "      <td>4.0</td>\n",
       "      <td>1.0</td>\n",
       "      <td>1.0</td>\n",
       "      <td>2.0</td>\n",
       "      <td>19.446989</td>\n",
       "      <td>-99.172211</td>\n",
       "      <td>0.0</td>\n",
       "      <td>...</td>\n",
       "      <td>1.0</td>\n",
       "      <td>0.0</td>\n",
       "      <td>1.0</td>\n",
       "      <td>0.0</td>\n",
       "      <td>0.0</td>\n",
       "      <td>0.0</td>\n",
       "      <td>0.0</td>\n",
       "      <td>0.0</td>\n",
       "      <td>1.0</td>\n",
       "      <td>1.0</td>\n",
       "    </tr>\n",
       "  </tbody>\n",
       "</table>\n",
       "<p>5 rows × 97 columns</p>\n",
       "</div>"
      ],
      "text/plain": [
       "       host_response_rate  host_acceptance_rate  host_total_listings_count  \\\n",
       "5434                  1.0                  0.79                        6.0   \n",
       "20726                 1.0                  1.00                        1.0   \n",
       "24644                 1.0                  1.00                       19.0   \n",
       "4991                  1.0                  1.00                        1.0   \n",
       "18412                 1.0                  1.00                      224.0   \n",
       "\n",
       "       accommodates  bathroom_qty  bedrooms  beds   latitude  longitude  \\\n",
       "5434            2.0           1.0       1.0   1.0  19.355921 -99.173973   \n",
       "20726           4.0           1.0       1.0   2.0  19.434452 -99.190392   \n",
       "24644           4.0           1.0       1.0   2.0  19.428835 -99.167885   \n",
       "4991            4.0           2.0       2.0   2.0  19.405701 -99.173172   \n",
       "18412           4.0           1.0       1.0   2.0  19.446989 -99.172211   \n",
       "\n",
       "       host_response_time_within_a_day  ...  tv_1  hair dryer_1  iron_1  \\\n",
       "5434                               0.0  ...   1.0           0.0     1.0   \n",
       "20726                              0.0  ...   1.0           1.0     1.0   \n",
       "24644                              0.0  ...   1.0           0.0     0.0   \n",
       "4991                               0.0  ...   1.0           1.0     1.0   \n",
       "18412                              0.0  ...   1.0           0.0     1.0   \n",
       "\n",
       "       hot tub_1  crib_1  bbq_1  fireplace_1  smoking_1  coffee maker_1  \\\n",
       "5434         0.0     0.0    0.0          0.0        0.0             1.0   \n",
       "20726        0.0     0.0    0.0          0.0        0.0             1.0   \n",
       "24644        0.0     0.0    0.0          0.0        0.0             0.0   \n",
       "4991         0.0     0.0    0.0          0.0        0.0             1.0   \n",
       "18412        0.0     0.0    0.0          0.0        0.0             1.0   \n",
       "\n",
       "       instant_bookable_True  \n",
       "5434                     0.0  \n",
       "20726                    1.0  \n",
       "24644                    1.0  \n",
       "4991                     0.0  \n",
       "18412                    1.0  \n",
       "\n",
       "[5 rows x 97 columns]"
      ]
     },
     "execution_count": null,
     "metadata": {},
     "output_type": "execute_result"
    }
   ],
   "source": [
    "train_dataset = pd.read_pickle(f\"../data/train/v_{VERSION}/train_dataset.pkl\")\n",
    "train_features = train_dataset.drop(['log_price'], axis = 1)\n",
    "train_features.head()"
   ]
  },
  {
   "cell_type": "code",
   "execution_count": null,
   "id": "022fd8c9-f882-494a-8132-2162f320b2b9",
   "metadata": {},
   "outputs": [],
   "source": [
    "complete_categorical=[i for i in train_features.columns if i not in geo+numerical]"
   ]
  },
  {
   "cell_type": "code",
   "execution_count": null,
   "id": "f9716a5d-2ee0-41bc-9e4f-a99bfca4f6df",
   "metadata": {},
   "outputs": [
    {
     "data": {
      "text/plain": [
       "97"
      ]
     },
     "execution_count": null,
     "metadata": {},
     "output_type": "execute_result"
    }
   ],
   "source": [
    "len(complete_categorical)+9"
   ]
  },
  {
   "cell_type": "markdown",
   "id": "d6cfbcef-2e00-41e2-872f-9d6886dcd743",
   "metadata": {},
   "source": [
    "## 2. Sample training data"
   ]
  },
  {
   "cell_type": "code",
   "execution_count": null,
   "id": "263f582c-430c-4a44-8a00-72ce4bee3e5b",
   "metadata": {},
   "outputs": [
    {
     "data": {
      "text/plain": [
       "(1646, 97)"
      ]
     },
     "execution_count": null,
     "metadata": {},
     "output_type": "execute_result"
    }
   ],
   "source": [
    "sample_data = train_features.sample(frac=.1, random_state=0)\n",
    "sample_data.shape"
   ]
  },
  {
   "cell_type": "markdown",
   "id": "bf98ae19-8888-4a51-9049-e55e78798dea",
   "metadata": {},
   "source": [
    "## 3. Read model"
   ]
  },
  {
   "cell_type": "code",
   "execution_count": null,
   "id": "a3cd7b52-8373-479b-be63-6bec5d582aeb",
   "metadata": {},
   "outputs": [],
   "source": [
    "model = keras.models.load_model(f'../models/v_{VERSION}/model.keras', safe_mode=False)"
   ]
  },
  {
   "cell_type": "code",
   "execution_count": null,
   "id": "58c1a542-507e-4a91-9c93-33cfab1d03bc",
   "metadata": {},
   "outputs": [
    {
     "data": {
      "text/plain": [
       "<keras.src.engine.functional.Functional>"
      ]
     },
     "execution_count": null,
     "metadata": {},
     "output_type": "execute_result"
    }
   ],
   "source": [
    "model"
   ]
  },
  {
   "cell_type": "code",
   "execution_count": null,
   "id": "b78b3551-fb23-4cb2-962a-ac35d438e840",
   "metadata": {},
   "outputs": [],
   "source": [
    "# We need a function that takes a matrix of samples (# samples x # features) and outputs the model predictions\n",
    "def model_predict(data_as_matrix):\n",
    "    return model.predict(data_as_matrix)"
   ]
  },
  {
   "cell_type": "markdown",
   "id": "27eb61e5-ccf0-4f21-abef-8612215a748b",
   "metadata": {},
   "source": [
    "## 4. SHAP (prepare w training data)\n",
    "\n",
    "First, order the training features:"
   ]
  },
  {
   "cell_type": "code",
   "execution_count": null,
   "id": "5c072587-2d60-4e63-82b1-c130d0cd9b81",
   "metadata": {},
   "outputs": [
    {
     "data": {
      "text/html": [
       "<div>\n",
       "<style scoped>\n",
       "    .dataframe tbody tr th:only-of-type {\n",
       "        vertical-align: middle;\n",
       "    }\n",
       "\n",
       "    .dataframe tbody tr th {\n",
       "        vertical-align: top;\n",
       "    }\n",
       "\n",
       "    .dataframe thead th {\n",
       "        text-align: right;\n",
       "    }\n",
       "</style>\n",
       "<table border=\"1\" class=\"dataframe\">\n",
       "  <thead>\n",
       "    <tr style=\"text-align: right;\">\n",
       "      <th></th>\n",
       "      <th>latitude</th>\n",
       "      <th>longitude</th>\n",
       "      <th>host_response_rate</th>\n",
       "      <th>host_acceptance_rate</th>\n",
       "      <th>host_total_listings_count</th>\n",
       "      <th>accommodates</th>\n",
       "      <th>bathroom_qty</th>\n",
       "      <th>bedrooms</th>\n",
       "      <th>beds</th>\n",
       "      <th>host_response_time_within_a_day</th>\n",
       "      <th>...</th>\n",
       "      <th>tv_1</th>\n",
       "      <th>hair dryer_1</th>\n",
       "      <th>iron_1</th>\n",
       "      <th>hot tub_1</th>\n",
       "      <th>crib_1</th>\n",
       "      <th>bbq_1</th>\n",
       "      <th>fireplace_1</th>\n",
       "      <th>smoking_1</th>\n",
       "      <th>coffee maker_1</th>\n",
       "      <th>instant_bookable_True</th>\n",
       "    </tr>\n",
       "  </thead>\n",
       "  <tbody>\n",
       "    <tr>\n",
       "      <th>16282</th>\n",
       "      <td>19.440889</td>\n",
       "      <td>-99.165443</td>\n",
       "      <td>1.00</td>\n",
       "      <td>1.00</td>\n",
       "      <td>3.0</td>\n",
       "      <td>2.0</td>\n",
       "      <td>1.0</td>\n",
       "      <td>1.0</td>\n",
       "      <td>2.0</td>\n",
       "      <td>0.0</td>\n",
       "      <td>...</td>\n",
       "      <td>0.0</td>\n",
       "      <td>0.0</td>\n",
       "      <td>1.0</td>\n",
       "      <td>0.0</td>\n",
       "      <td>0.0</td>\n",
       "      <td>0.0</td>\n",
       "      <td>0.0</td>\n",
       "      <td>0.0</td>\n",
       "      <td>0.0</td>\n",
       "      <td>0.0</td>\n",
       "    </tr>\n",
       "    <tr>\n",
       "      <th>18610</th>\n",
       "      <td>19.434441</td>\n",
       "      <td>-99.178436</td>\n",
       "      <td>1.00</td>\n",
       "      <td>1.00</td>\n",
       "      <td>12.0</td>\n",
       "      <td>2.0</td>\n",
       "      <td>1.0</td>\n",
       "      <td>1.0</td>\n",
       "      <td>1.0</td>\n",
       "      <td>0.0</td>\n",
       "      <td>...</td>\n",
       "      <td>1.0</td>\n",
       "      <td>1.0</td>\n",
       "      <td>1.0</td>\n",
       "      <td>0.0</td>\n",
       "      <td>1.0</td>\n",
       "      <td>1.0</td>\n",
       "      <td>0.0</td>\n",
       "      <td>0.0</td>\n",
       "      <td>1.0</td>\n",
       "      <td>1.0</td>\n",
       "    </tr>\n",
       "    <tr>\n",
       "      <th>10794</th>\n",
       "      <td>19.425770</td>\n",
       "      <td>-99.159576</td>\n",
       "      <td>1.00</td>\n",
       "      <td>0.99</td>\n",
       "      <td>42.0</td>\n",
       "      <td>2.0</td>\n",
       "      <td>1.0</td>\n",
       "      <td>1.0</td>\n",
       "      <td>1.0</td>\n",
       "      <td>0.0</td>\n",
       "      <td>...</td>\n",
       "      <td>1.0</td>\n",
       "      <td>1.0</td>\n",
       "      <td>1.0</td>\n",
       "      <td>0.0</td>\n",
       "      <td>0.0</td>\n",
       "      <td>0.0</td>\n",
       "      <td>0.0</td>\n",
       "      <td>0.0</td>\n",
       "      <td>0.0</td>\n",
       "      <td>0.0</td>\n",
       "    </tr>\n",
       "    <tr>\n",
       "      <th>8437</th>\n",
       "      <td>19.418871</td>\n",
       "      <td>-99.171120</td>\n",
       "      <td>1.00</td>\n",
       "      <td>1.00</td>\n",
       "      <td>18.0</td>\n",
       "      <td>2.0</td>\n",
       "      <td>1.0</td>\n",
       "      <td>1.0</td>\n",
       "      <td>1.0</td>\n",
       "      <td>0.0</td>\n",
       "      <td>...</td>\n",
       "      <td>1.0</td>\n",
       "      <td>1.0</td>\n",
       "      <td>1.0</td>\n",
       "      <td>1.0</td>\n",
       "      <td>0.0</td>\n",
       "      <td>0.0</td>\n",
       "      <td>0.0</td>\n",
       "      <td>0.0</td>\n",
       "      <td>1.0</td>\n",
       "      <td>1.0</td>\n",
       "    </tr>\n",
       "    <tr>\n",
       "      <th>17316</th>\n",
       "      <td>19.406441</td>\n",
       "      <td>-99.175041</td>\n",
       "      <td>0.99</td>\n",
       "      <td>1.00</td>\n",
       "      <td>68.0</td>\n",
       "      <td>3.0</td>\n",
       "      <td>2.5</td>\n",
       "      <td>1.0</td>\n",
       "      <td>1.0</td>\n",
       "      <td>0.0</td>\n",
       "      <td>...</td>\n",
       "      <td>0.0</td>\n",
       "      <td>1.0</td>\n",
       "      <td>1.0</td>\n",
       "      <td>0.0</td>\n",
       "      <td>0.0</td>\n",
       "      <td>0.0</td>\n",
       "      <td>0.0</td>\n",
       "      <td>0.0</td>\n",
       "      <td>1.0</td>\n",
       "      <td>1.0</td>\n",
       "    </tr>\n",
       "  </tbody>\n",
       "</table>\n",
       "<p>5 rows × 97 columns</p>\n",
       "</div>"
      ],
      "text/plain": [
       "        latitude  longitude  host_response_rate  host_acceptance_rate  \\\n",
       "16282  19.440889 -99.165443                1.00                  1.00   \n",
       "18610  19.434441 -99.178436                1.00                  1.00   \n",
       "10794  19.425770 -99.159576                1.00                  0.99   \n",
       "8437   19.418871 -99.171120                1.00                  1.00   \n",
       "17316  19.406441 -99.175041                0.99                  1.00   \n",
       "\n",
       "       host_total_listings_count  accommodates  bathroom_qty  bedrooms  beds  \\\n",
       "16282                        3.0           2.0           1.0       1.0   2.0   \n",
       "18610                       12.0           2.0           1.0       1.0   1.0   \n",
       "10794                       42.0           2.0           1.0       1.0   1.0   \n",
       "8437                        18.0           2.0           1.0       1.0   1.0   \n",
       "17316                       68.0           3.0           2.5       1.0   1.0   \n",
       "\n",
       "       host_response_time_within_a_day  ...  tv_1  hair dryer_1  iron_1  \\\n",
       "16282                              0.0  ...   0.0           0.0     1.0   \n",
       "18610                              0.0  ...   1.0           1.0     1.0   \n",
       "10794                              0.0  ...   1.0           1.0     1.0   \n",
       "8437                               0.0  ...   1.0           1.0     1.0   \n",
       "17316                              0.0  ...   0.0           1.0     1.0   \n",
       "\n",
       "       hot tub_1  crib_1  bbq_1  fireplace_1  smoking_1  coffee maker_1  \\\n",
       "16282        0.0     0.0    0.0          0.0        0.0             0.0   \n",
       "18610        0.0     1.0    1.0          0.0        0.0             1.0   \n",
       "10794        0.0     0.0    0.0          0.0        0.0             0.0   \n",
       "8437         1.0     0.0    0.0          0.0        0.0             1.0   \n",
       "17316        0.0     0.0    0.0          0.0        0.0             1.0   \n",
       "\n",
       "       instant_bookable_True  \n",
       "16282                    0.0  \n",
       "18610                    1.0  \n",
       "10794                    0.0  \n",
       "8437                     1.0  \n",
       "17316                    1.0  \n",
       "\n",
       "[5 rows x 97 columns]"
      ]
     },
     "execution_count": null,
     "metadata": {},
     "output_type": "execute_result"
    }
   ],
   "source": [
    "train_features_ordered = sample_data[geo+numerical+complete_categorical]\n",
    "train_features_ordered.head()"
   ]
  },
  {
   "cell_type": "markdown",
   "id": "15fcc842-ddad-43b1-9a49-61d9f4c208ca",
   "metadata": {},
   "source": [
    "Now, obtain and order the example we want to explain:"
   ]
  },
  {
   "cell_type": "code",
   "execution_count": null,
   "id": "01a69479-11db-4b6b-825b-e3157883b08a",
   "metadata": {},
   "outputs": [],
   "source": [
    "example = {\n",
    "    'host_response_rate': [.98], # My grandparents respond 98% of the time\n",
    "     'host_acceptance_rate': [ 1], # Right now they always accept new guests\n",
    "     'host_total_listings_count': [ 4], # They have 4 units\n",
    "     'latitude': [ 19.37137], # ...\n",
    "     'longitude': [ -99.19327],\n",
    "     'accommodates': [ 4],\n",
    "     'bathroom_qty': [ 2],\n",
    "     'bedrooms': [ 2],\n",
    "     'beds': [ 3],\n",
    "    'host_response_time':['within_a_day'],\n",
    "    'host_is_superhost': [False],\n",
    "    'host_verifications_work_email':[0],\n",
    "    'host_has_profile_pic': [True],\n",
    "    'neighbourhood_cleansed': ['alvaro_obregon'],\n",
    "    'room_type': ['entire_home_apt'],\n",
    "    'property_description': ['home/apt'],\n",
    "    'bathroom_type':['private_bath'],\n",
    "     'gym': [0],\n",
    "     'pool': [0],\n",
    "     'kitchen': [1],\n",
    "     'parking': [1],\n",
    "     'washer': [1],\n",
    "     'dryer': [1],\n",
    "     'conditioning': [0],\n",
    "     'heating': [0],\n",
    "     'workspace': [0],\n",
    "     'tv': [1],\n",
    "     'hair dryer': [0],\n",
    "     'iron': [1],\n",
    "     'hot tub': [0],\n",
    "     'crib': [0],\n",
    "     'bbq': [0],\n",
    "     'fireplace': [0],\n",
    "     'smoking': [0],\n",
    "     'coffee maker': [1],\n",
    "     'instant_bookable': ['True'],\n",
    "    \n",
    "}\n",
    "example_df = pd.DataFrame.from_dict(example)"
   ]
  },
  {
   "cell_type": "code",
   "execution_count": null,
   "id": "5e2119a4-8f69-4f41-916a-fb746801fbeb",
   "metadata": {},
   "outputs": [
    {
     "data": {
      "text/plain": [
       "0    1\n",
       "Name: kitchen, dtype: int64"
      ]
     },
     "execution_count": null,
     "metadata": {},
     "output_type": "execute_result"
    }
   ],
   "source": [
    "example_df['kitchen']"
   ]
  },
  {
   "cell_type": "code",
   "execution_count": null,
   "id": "4481de62-43c7-4f44-9dbf-e733dffafe53",
   "metadata": {},
   "outputs": [],
   "source": [
    "# 1. Apply pd.get_dummies to the example_df\n",
    "example_df = pd.get_dummies(example_df, columns=categorical, drop_first=False)"
   ]
  },
  {
   "cell_type": "code",
   "execution_count": null,
   "id": "3214adfd-e923-47ff-a4d8-71920cb49cc2",
   "metadata": {},
   "outputs": [
    {
     "data": {
      "text/html": [
       "<div>\n",
       "<style scoped>\n",
       "    .dataframe tbody tr th:only-of-type {\n",
       "        vertical-align: middle;\n",
       "    }\n",
       "\n",
       "    .dataframe tbody tr th {\n",
       "        vertical-align: top;\n",
       "    }\n",
       "\n",
       "    .dataframe thead th {\n",
       "        text-align: right;\n",
       "    }\n",
       "</style>\n",
       "<table border=\"1\" class=\"dataframe\">\n",
       "  <thead>\n",
       "    <tr style=\"text-align: right;\">\n",
       "      <th></th>\n",
       "      <th>host_response_rate</th>\n",
       "      <th>host_acceptance_rate</th>\n",
       "      <th>host_total_listings_count</th>\n",
       "      <th>latitude</th>\n",
       "      <th>longitude</th>\n",
       "      <th>accommodates</th>\n",
       "      <th>bathroom_qty</th>\n",
       "      <th>bedrooms</th>\n",
       "      <th>beds</th>\n",
       "      <th>host_response_time_within_a_day</th>\n",
       "      <th>...</th>\n",
       "      <th>tv_1</th>\n",
       "      <th>hair dryer_0</th>\n",
       "      <th>iron_1</th>\n",
       "      <th>hot tub_0</th>\n",
       "      <th>crib_0</th>\n",
       "      <th>bbq_0</th>\n",
       "      <th>fireplace_0</th>\n",
       "      <th>smoking_0</th>\n",
       "      <th>coffee maker_1</th>\n",
       "      <th>instant_bookable_True</th>\n",
       "    </tr>\n",
       "  </thead>\n",
       "  <tbody>\n",
       "    <tr>\n",
       "      <th>0</th>\n",
       "      <td>0.98</td>\n",
       "      <td>1</td>\n",
       "      <td>4</td>\n",
       "      <td>19.37137</td>\n",
       "      <td>-99.19327</td>\n",
       "      <td>4</td>\n",
       "      <td>2</td>\n",
       "      <td>2</td>\n",
       "      <td>3</td>\n",
       "      <td>True</td>\n",
       "      <td>...</td>\n",
       "      <td>True</td>\n",
       "      <td>True</td>\n",
       "      <td>True</td>\n",
       "      <td>True</td>\n",
       "      <td>True</td>\n",
       "      <td>True</td>\n",
       "      <td>True</td>\n",
       "      <td>True</td>\n",
       "      <td>True</td>\n",
       "      <td>True</td>\n",
       "    </tr>\n",
       "  </tbody>\n",
       "</table>\n",
       "<p>1 rows × 36 columns</p>\n",
       "</div>"
      ],
      "text/plain": [
       "   host_response_rate  host_acceptance_rate  host_total_listings_count  \\\n",
       "0                0.98                     1                          4   \n",
       "\n",
       "   latitude  longitude  accommodates  bathroom_qty  bedrooms  beds  \\\n",
       "0  19.37137  -99.19327             4             2         2     3   \n",
       "\n",
       "   host_response_time_within_a_day  ...  tv_1  hair dryer_0  iron_1  \\\n",
       "0                             True  ...  True          True    True   \n",
       "\n",
       "   hot tub_0  crib_0  bbq_0  fireplace_0  smoking_0  coffee maker_1  \\\n",
       "0       True    True   True         True       True            True   \n",
       "\n",
       "   instant_bookable_True  \n",
       "0                   True  \n",
       "\n",
       "[1 rows x 36 columns]"
      ]
     },
     "execution_count": null,
     "metadata": {},
     "output_type": "execute_result"
    }
   ],
   "source": [
    "example_df"
   ]
  },
  {
   "cell_type": "code",
   "execution_count": null,
   "id": "30e4befb-a669-4ca9-9c35-718b4f9624bf",
   "metadata": {},
   "outputs": [
    {
     "name": "stderr",
     "output_type": "stream",
     "text": [
      "DataFrame is highly fragmented.  This is usually the result of calling `frame.insert` many times, which has poor performance.  Consider joining all columns at once using pd.concat(axis=1) instead. To get a de-fragmented frame, use `newframe = frame.copy()`\n",
      "DataFrame is highly fragmented.  This is usually the result of calling `frame.insert` many times, which has poor performance.  Consider joining all columns at once using pd.concat(axis=1) instead. To get a de-fragmented frame, use `newframe = frame.copy()`\n",
      "DataFrame is highly fragmented.  This is usually the result of calling `frame.insert` many times, which has poor performance.  Consider joining all columns at once using pd.concat(axis=1) instead. To get a de-fragmented frame, use `newframe = frame.copy()`\n",
      "DataFrame is highly fragmented.  This is usually the result of calling `frame.insert` many times, which has poor performance.  Consider joining all columns at once using pd.concat(axis=1) instead. To get a de-fragmented frame, use `newframe = frame.copy()`\n",
      "DataFrame is highly fragmented.  This is usually the result of calling `frame.insert` many times, which has poor performance.  Consider joining all columns at once using pd.concat(axis=1) instead. To get a de-fragmented frame, use `newframe = frame.copy()`\n"
     ]
    },
    {
     "data": {
      "text/html": [
       "<div>\n",
       "<style scoped>\n",
       "    .dataframe tbody tr th:only-of-type {\n",
       "        vertical-align: middle;\n",
       "    }\n",
       "\n",
       "    .dataframe tbody tr th {\n",
       "        vertical-align: top;\n",
       "    }\n",
       "\n",
       "    .dataframe thead th {\n",
       "        text-align: right;\n",
       "    }\n",
       "</style>\n",
       "<table border=\"1\" class=\"dataframe\">\n",
       "  <thead>\n",
       "    <tr style=\"text-align: right;\">\n",
       "      <th></th>\n",
       "      <th>host_response_rate</th>\n",
       "      <th>host_acceptance_rate</th>\n",
       "      <th>host_total_listings_count</th>\n",
       "      <th>accommodates</th>\n",
       "      <th>bathroom_qty</th>\n",
       "      <th>bedrooms</th>\n",
       "      <th>beds</th>\n",
       "      <th>latitude</th>\n",
       "      <th>longitude</th>\n",
       "      <th>host_response_time_within_a_day</th>\n",
       "      <th>...</th>\n",
       "      <th>tv_1</th>\n",
       "      <th>hair dryer_1</th>\n",
       "      <th>iron_1</th>\n",
       "      <th>hot tub_1</th>\n",
       "      <th>crib_1</th>\n",
       "      <th>bbq_1</th>\n",
       "      <th>fireplace_1</th>\n",
       "      <th>smoking_1</th>\n",
       "      <th>coffee maker_1</th>\n",
       "      <th>instant_bookable_True</th>\n",
       "    </tr>\n",
       "  </thead>\n",
       "  <tbody>\n",
       "    <tr>\n",
       "      <th>0</th>\n",
       "      <td>0.98</td>\n",
       "      <td>1.0</td>\n",
       "      <td>4.0</td>\n",
       "      <td>4.0</td>\n",
       "      <td>2.0</td>\n",
       "      <td>2.0</td>\n",
       "      <td>3.0</td>\n",
       "      <td>19.37137</td>\n",
       "      <td>-99.193268</td>\n",
       "      <td>1.0</td>\n",
       "      <td>...</td>\n",
       "      <td>1.0</td>\n",
       "      <td>0.0</td>\n",
       "      <td>1.0</td>\n",
       "      <td>0.0</td>\n",
       "      <td>0.0</td>\n",
       "      <td>0.0</td>\n",
       "      <td>0.0</td>\n",
       "      <td>0.0</td>\n",
       "      <td>1.0</td>\n",
       "      <td>1.0</td>\n",
       "    </tr>\n",
       "  </tbody>\n",
       "</table>\n",
       "<p>1 rows × 97 columns</p>\n",
       "</div>"
      ],
      "text/plain": [
       "   host_response_rate  host_acceptance_rate  host_total_listings_count  \\\n",
       "0                0.98                   1.0                        4.0   \n",
       "\n",
       "   accommodates  bathroom_qty  bedrooms  beds  latitude  longitude  \\\n",
       "0           4.0           2.0       2.0   3.0  19.37137 -99.193268   \n",
       "\n",
       "   host_response_time_within_a_day  ...  tv_1  hair dryer_1  iron_1  \\\n",
       "0                              1.0  ...   1.0           0.0     1.0   \n",
       "\n",
       "   hot tub_1  crib_1  bbq_1  fireplace_1  smoking_1  coffee maker_1  \\\n",
       "0        0.0     0.0    0.0          0.0        0.0             1.0   \n",
       "\n",
       "   instant_bookable_True  \n",
       "0                    1.0  \n",
       "\n",
       "[1 rows x 97 columns]"
      ]
     },
     "execution_count": null,
     "metadata": {},
     "output_type": "execute_result"
    }
   ],
   "source": [
    "# 2. Get the structure of the original dataframe\n",
    "original_structure = train_features.columns\n",
    "\n",
    "# 3. Add missing columns to example_df\n",
    "missing_cols = set(original_structure) - set(example_df.columns)\n",
    "for col in missing_cols:\n",
    "    example_df[col] = 0\n",
    "\n",
    "# 4. Ensure the order of columns is the same as in 'data'\n",
    "example_df = example_df[original_structure]\n",
    "\n",
    "# 5. Reformat\n",
    "example_df=example_df.astype('float32')\n",
    "\n",
    "example_df.head()"
   ]
  },
  {
   "cell_type": "code",
   "execution_count": null,
   "id": "f6aaec1d-2b8c-4271-9c1d-eed5bec9c209",
   "metadata": {},
   "outputs": [
    {
     "data": {
      "text/plain": [
       "0    1.0\n",
       "Name: kitchen_1, dtype: float32"
      ]
     },
     "execution_count": null,
     "metadata": {},
     "output_type": "execute_result"
    }
   ],
   "source": [
    "example_df['kitchen_1']"
   ]
  },
  {
   "cell_type": "code",
   "execution_count": null,
   "id": "a854b353-9b91-40b4-ab9b-508e88dce927",
   "metadata": {},
   "outputs": [],
   "source": [
    "test_features_ordered = example_df[geo+numerical+complete_categorical]"
   ]
  },
  {
   "cell_type": "code",
   "execution_count": null,
   "id": "f71eb995-347a-479b-8b15-d767c528186c",
   "metadata": {},
   "outputs": [
    {
     "data": {
      "text/html": [
       "<div>\n",
       "<style scoped>\n",
       "    .dataframe tbody tr th:only-of-type {\n",
       "        vertical-align: middle;\n",
       "    }\n",
       "\n",
       "    .dataframe tbody tr th {\n",
       "        vertical-align: top;\n",
       "    }\n",
       "\n",
       "    .dataframe thead th {\n",
       "        text-align: right;\n",
       "    }\n",
       "</style>\n",
       "<table border=\"1\" class=\"dataframe\">\n",
       "  <thead>\n",
       "    <tr style=\"text-align: right;\">\n",
       "      <th></th>\n",
       "      <th>latitude</th>\n",
       "      <th>longitude</th>\n",
       "      <th>host_response_rate</th>\n",
       "      <th>host_acceptance_rate</th>\n",
       "      <th>host_total_listings_count</th>\n",
       "      <th>accommodates</th>\n",
       "      <th>bathroom_qty</th>\n",
       "      <th>bedrooms</th>\n",
       "      <th>beds</th>\n",
       "      <th>host_response_time_within_a_day</th>\n",
       "      <th>...</th>\n",
       "      <th>tv_1</th>\n",
       "      <th>hair dryer_1</th>\n",
       "      <th>iron_1</th>\n",
       "      <th>hot tub_1</th>\n",
       "      <th>crib_1</th>\n",
       "      <th>bbq_1</th>\n",
       "      <th>fireplace_1</th>\n",
       "      <th>smoking_1</th>\n",
       "      <th>coffee maker_1</th>\n",
       "      <th>instant_bookable_True</th>\n",
       "    </tr>\n",
       "  </thead>\n",
       "  <tbody>\n",
       "    <tr>\n",
       "      <th>0</th>\n",
       "      <td>19.37137</td>\n",
       "      <td>-99.193268</td>\n",
       "      <td>0.98</td>\n",
       "      <td>1.0</td>\n",
       "      <td>4.0</td>\n",
       "      <td>4.0</td>\n",
       "      <td>2.0</td>\n",
       "      <td>2.0</td>\n",
       "      <td>3.0</td>\n",
       "      <td>1.0</td>\n",
       "      <td>...</td>\n",
       "      <td>1.0</td>\n",
       "      <td>0.0</td>\n",
       "      <td>1.0</td>\n",
       "      <td>0.0</td>\n",
       "      <td>0.0</td>\n",
       "      <td>0.0</td>\n",
       "      <td>0.0</td>\n",
       "      <td>0.0</td>\n",
       "      <td>1.0</td>\n",
       "      <td>1.0</td>\n",
       "    </tr>\n",
       "  </tbody>\n",
       "</table>\n",
       "<p>1 rows × 97 columns</p>\n",
       "</div>"
      ],
      "text/plain": [
       "   latitude  longitude  host_response_rate  host_acceptance_rate  \\\n",
       "0  19.37137 -99.193268                0.98                   1.0   \n",
       "\n",
       "   host_total_listings_count  accommodates  bathroom_qty  bedrooms  beds  \\\n",
       "0                        4.0           4.0           2.0       2.0   3.0   \n",
       "\n",
       "   host_response_time_within_a_day  ...  tv_1  hair dryer_1  iron_1  \\\n",
       "0                              1.0  ...   1.0           0.0     1.0   \n",
       "\n",
       "   hot tub_1  crib_1  bbq_1  fireplace_1  smoking_1  coffee maker_1  \\\n",
       "0        0.0     0.0    0.0          0.0        0.0             1.0   \n",
       "\n",
       "   instant_bookable_True  \n",
       "0                    1.0  \n",
       "\n",
       "[1 rows x 97 columns]"
      ]
     },
     "execution_count": null,
     "metadata": {},
     "output_type": "execute_result"
    }
   ],
   "source": [
    "test_features_ordered"
   ]
  },
  {
   "cell_type": "markdown",
   "id": "ca91f428-85e1-4ca4-b357-b58bcc90a07d",
   "metadata": {},
   "source": [
    "Now, we obtain the Shapley values:"
   ]
  },
  {
   "cell_type": "code",
   "execution_count": null,
   "id": "8df5f676-11f8-4bda-8c48-3cf7ea8f9487",
   "metadata": {},
   "outputs": [
    {
     "name": "stdout",
     "output_type": "stream",
     "text": [
      "52/52 [==============================] - 0s 971us/step\n"
     ]
    },
    {
     "name": "stderr",
     "output_type": "stream",
     "text": [
      "Using 1646 background data samples could cause slower run times. Consider using shap.sample(data, K) or shap.kmeans(data, K) to summarize the background as K samples.\n"
     ]
    },
    {
     "data": {
      "application/vnd.jupyter.widget-view+json": {
       "model_id": "5befb19cc25c47ca8bdd3b76c3b26a24",
       "version_major": 2,
       "version_minor": 0
      },
      "text/plain": [
       "  0%|          | 0/1 [00:00<?, ?it/s]"
      ]
     },
     "metadata": {},
     "output_type": "display_data"
    },
    {
     "name": "stdout",
     "output_type": "stream",
     "text": [
      "1/1 [==============================] - 0s 10ms/step\n",
      "113369/113369 [==============================] - 86s 755us/step\n"
     ]
    },
    {
     "data": {
      "image/png": "[encoded data removed]",
      "text/plain": [
       "<Figure size 800x950 with 1 Axes>"
      ]
     },
     "metadata": {},
     "output_type": "display_data"
    }
   ],
   "source": [
    "# Initialize the SHAP KernelExplainer\n",
    "explainer = shap.KernelExplainer(model_predict, train_features_ordered.values)  # Using a representative subset\n",
    "\n",
    "# Compute SHAP values for the first 100 samples of your test set\n",
    "shap_values = explainer.shap_values(test_features_ordered.values)\n",
    "\n",
    "# Plot the SHAP values\n",
    "shap.summary_plot(shap_values, test_features_ordered.iloc[0:100])"
   ]
  },
  {
   "cell_type": "markdown",
   "id": "c675a69f-75bf-4ed5-bb73-709f23e19dec",
   "metadata": {},
   "source": [
    "Now, let's observe the most important features on this explanation and their impact:"
   ]
  },
  {
   "cell_type": "code",
   "execution_count": null,
   "id": "e1d7e4c9-d564-4cd7-a04d-b66497d96115",
   "metadata": {},
   "outputs": [
    {
     "name": "stdout",
     "output_type": "stream",
     "text": [
      "base value = [6.80066075]\n",
      "base value in MXN pesos = [898.44074326]\n"
     ]
    },
    {
     "data": {
      "text/html": [
       "<div>\n",
       "<style scoped>\n",
       "    .dataframe tbody tr th:only-of-type {\n",
       "        vertical-align: middle;\n",
       "    }\n",
       "\n",
       "    .dataframe tbody tr th {\n",
       "        vertical-align: top;\n",
       "    }\n",
       "\n",
       "    .dataframe thead th {\n",
       "        text-align: right;\n",
       "    }\n",
       "</style>\n",
       "<table border=\"1\" class=\"dataframe\">\n",
       "  <thead>\n",
       "    <tr style=\"text-align: right;\">\n",
       "      <th></th>\n",
       "      <th>shap_value</th>\n",
       "    </tr>\n",
       "  </thead>\n",
       "  <tbody>\n",
       "    <tr>\n",
       "      <th>latitude</th>\n",
       "      <td>0.000000</td>\n",
       "    </tr>\n",
       "    <tr>\n",
       "      <th>longitude</th>\n",
       "      <td>0.001297</td>\n",
       "    </tr>\n",
       "    <tr>\n",
       "      <th>host_response_rate</th>\n",
       "      <td>-0.003775</td>\n",
       "    </tr>\n",
       "    <tr>\n",
       "      <th>host_acceptance_rate</th>\n",
       "      <td>-0.020093</td>\n",
       "    </tr>\n",
       "    <tr>\n",
       "      <th>host_total_listings_count</th>\n",
       "      <td>-0.012993</td>\n",
       "    </tr>\n",
       "  </tbody>\n",
       "</table>\n",
       "</div>"
      ],
      "text/plain": [
       "                           shap_value\n",
       "latitude                     0.000000\n",
       "longitude                    0.001297\n",
       "host_response_rate          -0.003775\n",
       "host_acceptance_rate        -0.020093\n",
       "host_total_listings_count   -0.012993"
      ]
     },
     "execution_count": null,
     "metadata": {},
     "output_type": "execute_result"
    }
   ],
   "source": [
    "print(\"base value =\", explainer.expected_value)\n",
    "print(\"base value in MXN pesos =\", np.exp(explainer.expected_value))\n",
    "\n",
    "# Convert the SHAP values for the first test example into a DataFrame\n",
    "shap_df = pd.DataFrame(shap_values[0], columns=test_features_ordered.columns)\n",
    "shap_df =shap_df.T\n",
    "shap_df = shap_df.rename(columns={0:'shap_value'})\n",
    "shap_df.head()"
   ]
  },
  {
   "cell_type": "code",
   "execution_count": null,
   "id": "b64dd0c8-c77c-45e7-ba64-1841f384c977",
   "metadata": {},
   "outputs": [
    {
     "data": {
      "text/html": [
       "<div>\n",
       "<style scoped>\n",
       "    .dataframe tbody tr th:only-of-type {\n",
       "        vertical-align: middle;\n",
       "    }\n",
       "\n",
       "    .dataframe tbody tr th {\n",
       "        vertical-align: top;\n",
       "    }\n",
       "\n",
       "    .dataframe thead th {\n",
       "        text-align: right;\n",
       "    }\n",
       "</style>\n",
       "<table border=\"1\" class=\"dataframe\">\n",
       "  <thead>\n",
       "    <tr style=\"text-align: right;\">\n",
       "      <th></th>\n",
       "      <th>shap_value</th>\n",
       "      <th>magnitude</th>\n",
       "      <th>sign</th>\n",
       "      <th>value_feature</th>\n",
       "    </tr>\n",
       "  </thead>\n",
       "  <tbody>\n",
       "    <tr>\n",
       "      <th>accommodates</th>\n",
       "      <td>0.083434</td>\n",
       "      <td>0.083434</td>\n",
       "      <td>Positive</td>\n",
       "      <td>4.0</td>\n",
       "    </tr>\n",
       "    <tr>\n",
       "      <th>property_description_rental_unit</th>\n",
       "      <td>0.071992</td>\n",
       "      <td>0.071992</td>\n",
       "      <td>Positive</td>\n",
       "      <td>0.0</td>\n",
       "    </tr>\n",
       "    <tr>\n",
       "      <th>hair dryer_1</th>\n",
       "      <td>-0.050051</td>\n",
       "      <td>0.050051</td>\n",
       "      <td>Negative</td>\n",
       "      <td>0.0</td>\n",
       "    </tr>\n",
       "    <tr>\n",
       "      <th>bathroom_qty</th>\n",
       "      <td>0.048559</td>\n",
       "      <td>0.048559</td>\n",
       "      <td>Positive</td>\n",
       "      <td>2.0</td>\n",
       "    </tr>\n",
       "    <tr>\n",
       "      <th>property_description_home/apt</th>\n",
       "      <td>-0.044995</td>\n",
       "      <td>0.044995</td>\n",
       "      <td>Negative</td>\n",
       "      <td>1.0</td>\n",
       "    </tr>\n",
       "    <tr>\n",
       "      <th>host_response_time_within_a_day</th>\n",
       "      <td>0.041115</td>\n",
       "      <td>0.041115</td>\n",
       "      <td>Positive</td>\n",
       "      <td>1.0</td>\n",
       "    </tr>\n",
       "    <tr>\n",
       "      <th>room_type_private_room</th>\n",
       "      <td>0.036834</td>\n",
       "      <td>0.036834</td>\n",
       "      <td>Positive</td>\n",
       "      <td>0.0</td>\n",
       "    </tr>\n",
       "    <tr>\n",
       "      <th>washer_1</th>\n",
       "      <td>-0.034703</td>\n",
       "      <td>0.034703</td>\n",
       "      <td>Negative</td>\n",
       "      <td>1.0</td>\n",
       "    </tr>\n",
       "    <tr>\n",
       "      <th>host_response_time_within_an_hour</th>\n",
       "      <td>0.032860</td>\n",
       "      <td>0.032860</td>\n",
       "      <td>Positive</td>\n",
       "      <td>0.0</td>\n",
       "    </tr>\n",
       "    <tr>\n",
       "      <th>neighbourhood_cleansed_cuauhtemoc</th>\n",
       "      <td>-0.028452</td>\n",
       "      <td>0.028452</td>\n",
       "      <td>Negative</td>\n",
       "      <td>0.0</td>\n",
       "    </tr>\n",
       "  </tbody>\n",
       "</table>\n",
       "</div>"
      ],
      "text/plain": [
       "                                   shap_value  magnitude      sign  \\\n",
       "accommodates                         0.083434   0.083434  Positive   \n",
       "property_description_rental_unit     0.071992   0.071992  Positive   \n",
       "hair dryer_1                        -0.050051   0.050051  Negative   \n",
       "bathroom_qty                         0.048559   0.048559  Positive   \n",
       "property_description_home/apt       -0.044995   0.044995  Negative   \n",
       "host_response_time_within_a_day      0.041115   0.041115  Positive   \n",
       "room_type_private_room               0.036834   0.036834  Positive   \n",
       "washer_1                            -0.034703   0.034703  Negative   \n",
       "host_response_time_within_an_hour    0.032860   0.032860  Positive   \n",
       "neighbourhood_cleansed_cuauhtemoc   -0.028452   0.028452  Negative   \n",
       "\n",
       "                                   value_feature  \n",
       "accommodates                                 4.0  \n",
       "property_description_rental_unit             0.0  \n",
       "hair dryer_1                                 0.0  \n",
       "bathroom_qty                                 2.0  \n",
       "property_description_home/apt                1.0  \n",
       "host_response_time_within_a_day              1.0  \n",
       "room_type_private_room                       0.0  \n",
       "washer_1                                     1.0  \n",
       "host_response_time_within_an_hour            0.0  \n",
       "neighbourhood_cleansed_cuauhtemoc            0.0  "
      ]
     },
     "execution_count": null,
     "metadata": {},
     "output_type": "execute_result"
    }
   ],
   "source": [
    "# Calculate the magnitude in absolute values\n",
    "shap_df['magnitude'] = shap_df['shap_value'].abs()\n",
    "\n",
    "# Add a column indicating positive or negative SHAP value\n",
    "shap_df['sign'] = shap_df['shap_value'].apply(lambda x: 'Positive' if x > 0 else ('Negative' if x<0 else 'Neutral'))\n",
    "\n",
    "# Order the DataFrame by the magnitude of the SHAP values\n",
    "shap_df = shap_df.sort_values(by='magnitude', ascending=False)\n",
    "\n",
    "# Observe the value in the original example:\n",
    "shap_df['value_feature'] = [test_features_ordered.loc[0, feature] for feature in shap_df.index]\n",
    "\n",
    "shap_df.head(10)"
   ]
  },
  {
   "cell_type": "code",
   "execution_count": null,
   "id": "16d1cd93-5a7c-4947-b21f-42398eb29449",
   "metadata": {},
   "outputs": [
    {
     "data": {
      "text/html": [
       "<div>\n",
       "<style scoped>\n",
       "    .dataframe tbody tr th:only-of-type {\n",
       "        vertical-align: middle;\n",
       "    }\n",
       "\n",
       "    .dataframe tbody tr th {\n",
       "        vertical-align: top;\n",
       "    }\n",
       "\n",
       "    .dataframe thead th {\n",
       "        text-align: right;\n",
       "    }\n",
       "</style>\n",
       "<table border=\"1\" class=\"dataframe\">\n",
       "  <thead>\n",
       "    <tr style=\"text-align: right;\">\n",
       "      <th></th>\n",
       "      <th>shap_value</th>\n",
       "      <th>magnitude</th>\n",
       "      <th>sign</th>\n",
       "      <th>value_feature</th>\n",
       "    </tr>\n",
       "  </thead>\n",
       "  <tbody>\n",
       "    <tr>\n",
       "      <th>hair dryer_1</th>\n",
       "      <td>-0.050051</td>\n",
       "      <td>0.050051</td>\n",
       "      <td>Negative</td>\n",
       "      <td>0.0</td>\n",
       "    </tr>\n",
       "    <tr>\n",
       "      <th>property_description_home/apt</th>\n",
       "      <td>-0.044995</td>\n",
       "      <td>0.044995</td>\n",
       "      <td>Negative</td>\n",
       "      <td>1.0</td>\n",
       "    </tr>\n",
       "    <tr>\n",
       "      <th>washer_1</th>\n",
       "      <td>-0.034703</td>\n",
       "      <td>0.034703</td>\n",
       "      <td>Negative</td>\n",
       "      <td>1.0</td>\n",
       "    </tr>\n",
       "    <tr>\n",
       "      <th>neighbourhood_cleansed_cuauhtemoc</th>\n",
       "      <td>-0.028452</td>\n",
       "      <td>0.028452</td>\n",
       "      <td>Negative</td>\n",
       "      <td>0.0</td>\n",
       "    </tr>\n",
       "    <tr>\n",
       "      <th>neighbourhood_cleansed_miguel_hidalgo</th>\n",
       "      <td>-0.020184</td>\n",
       "      <td>0.020184</td>\n",
       "      <td>Negative</td>\n",
       "      <td>0.0</td>\n",
       "    </tr>\n",
       "    <tr>\n",
       "      <th>host_acceptance_rate</th>\n",
       "      <td>-0.020093</td>\n",
       "      <td>0.020093</td>\n",
       "      <td>Negative</td>\n",
       "      <td>1.0</td>\n",
       "    </tr>\n",
       "    <tr>\n",
       "      <th>kitchen_1</th>\n",
       "      <td>-0.014126</td>\n",
       "      <td>0.014126</td>\n",
       "      <td>Negative</td>\n",
       "      <td>1.0</td>\n",
       "    </tr>\n",
       "    <tr>\n",
       "      <th>host_total_listings_count</th>\n",
       "      <td>-0.012993</td>\n",
       "      <td>0.012993</td>\n",
       "      <td>Negative</td>\n",
       "      <td>4.0</td>\n",
       "    </tr>\n",
       "    <tr>\n",
       "      <th>conditioning_1</th>\n",
       "      <td>-0.010609</td>\n",
       "      <td>0.010609</td>\n",
       "      <td>Negative</td>\n",
       "      <td>0.0</td>\n",
       "    </tr>\n",
       "    <tr>\n",
       "      <th>pool_1</th>\n",
       "      <td>-0.009842</td>\n",
       "      <td>0.009842</td>\n",
       "      <td>Negative</td>\n",
       "      <td>0.0</td>\n",
       "    </tr>\n",
       "  </tbody>\n",
       "</table>\n",
       "</div>"
      ],
      "text/plain": [
       "                                       shap_value  magnitude      sign  \\\n",
       "hair dryer_1                            -0.050051   0.050051  Negative   \n",
       "property_description_home/apt           -0.044995   0.044995  Negative   \n",
       "washer_1                                -0.034703   0.034703  Negative   \n",
       "neighbourhood_cleansed_cuauhtemoc       -0.028452   0.028452  Negative   \n",
       "neighbourhood_cleansed_miguel_hidalgo   -0.020184   0.020184  Negative   \n",
       "host_acceptance_rate                    -0.020093   0.020093  Negative   \n",
       "kitchen_1                               -0.014126   0.014126  Negative   \n",
       "host_total_listings_count               -0.012993   0.012993  Negative   \n",
       "conditioning_1                          -0.010609   0.010609  Negative   \n",
       "pool_1                                  -0.009842   0.009842  Negative   \n",
       "\n",
       "                                       value_feature  \n",
       "hair dryer_1                                     0.0  \n",
       "property_description_home/apt                    1.0  \n",
       "washer_1                                         1.0  \n",
       "neighbourhood_cleansed_cuauhtemoc                0.0  \n",
       "neighbourhood_cleansed_miguel_hidalgo            0.0  \n",
       "host_acceptance_rate                             1.0  \n",
       "kitchen_1                                        1.0  \n",
       "host_total_listings_count                        4.0  \n",
       "conditioning_1                                   0.0  \n",
       "pool_1                                           0.0  "
      ]
     },
     "execution_count": null,
     "metadata": {},
     "output_type": "execute_result"
    }
   ],
   "source": [
    "shap_df[shap_df.sign=='Negative'].head(10)"
   ]
  },
  {
   "cell_type": "markdown",
   "id": "73de6a80-e7ea-457c-8041-700906e70332",
   "metadata": {},
   "source": [
    "## 5. What if..."
   ]
  },
  {
   "cell_type": "markdown",
   "id": "67ded4c2-a65a-4ca5-985b-c0214a5a817d",
   "metadata": {},
   "source": [
    "We see how many influential features (that contribute more to taking the price of the unit off of the base price) are variables we can not so easily modify as the number of people it accommodates. But we do see relatively high Shap values for some amenities for example. What happens if we recommend adding those amenities to raise the price?"
   ]
  },
  {
   "cell_type": "code",
   "execution_count": null,
   "id": "62f6fb39-d1c4-4e5a-81e5-e7b9cbae2afc",
   "metadata": {},
   "outputs": [
    {
     "name": "stdout",
     "output_type": "stream",
     "text": [
      "1/1 [==============================] - 0s 89ms/step\n",
      "Predicted base price for the unit: $ 1077.72 MXN/night\n",
      "Baseline price for all units in Mexico City : $ 898.44 MXN/night\n"
     ]
    }
   ],
   "source": [
    "# MODEL PREDICTION:\n",
    "price_unit = np.exp(model.predict(test_features_ordered))[0][0]\n",
    "\n",
    "print('Predicted base price for the unit: $', round(price_unit,2), 'MXN/night')\n",
    "print(\"Baseline price for all units in Mexico City : $\", round(np.exp(explainer.expected_value)[0],2), 'MXN/night')"
   ]
  },
  {
   "cell_type": "code",
   "execution_count": null,
   "id": "80448852-49a4-46ad-9143-c6a940b1ecff",
   "metadata": {},
   "outputs": [
    {
     "name": "stdout",
     "output_type": "stream",
     "text": [
      "1/1 [==============================] - 0s 79ms/step\n"
     ]
    },
    {
     "data": {
      "text/plain": [
       "array([[7.0496197]], dtype=float32)"
      ]
     },
     "execution_count": null,
     "metadata": {},
     "output_type": "execute_result"
    }
   ],
   "source": [
    "model.predict(test_features_ordered)"
   ]
  },
  {
   "cell_type": "code",
   "execution_count": null,
   "id": "e86d0615-aeb5-4582-9c01-7f4d178a77ee",
   "metadata": {},
   "outputs": [],
   "source": [
    "# What if my grandparent's offered a hair dryer maker?\n",
    "# (we see not having one is moving the price done to the base price according to SHAP)\n",
    "what_if_1 = test_features_ordered.copy()\n",
    "what_if_1['hair dryer_1'].iloc[0]=1"
   ]
  },
  {
   "cell_type": "code",
   "execution_count": null,
   "id": "d191ed65-28ab-46f7-adf4-3748266ba461",
   "metadata": {},
   "outputs": [
    {
     "name": "stdout",
     "output_type": "stream",
     "text": [
      "1/1 [==============================] - 0s 34ms/step\n",
      "New predicted base price for the unit (adding a hair dryer): $ 1337.1122 MXN/night\n"
     ]
    }
   ],
   "source": [
    "# MODEL PREDICTION:\n",
    "price_unit_what_if_1 = np.exp(model.predict(what_if_1))[0][0]\n",
    "\n",
    "print('New predicted base price for the unit (adding a hair dryer): $', price_unit_what_if_1, 'MXN/night')"
   ]
  },
  {
   "cell_type": "code",
   "execution_count": null,
   "id": "9551675d-d925-4e6b-a34d-083a2c79ee69",
   "metadata": {},
   "outputs": [],
   "source": [
    "# What if my grandparent's offered confitioning?\n",
    "what_if_2 = test_features_ordered.copy()\n",
    "what_if_2['conditioning_1'].iloc[0]=1"
   ]
  },
  {
   "cell_type": "code",
   "execution_count": null,
   "id": "0922675b-c807-4d2a-8c0e-ada8fb203d29",
   "metadata": {},
   "outputs": [
    {
     "name": "stdout",
     "output_type": "stream",
     "text": [
      "1/1 [==============================] - 0s 19ms/step\n",
      "New predicted base price for the unit (adding a conditioning): $ 1605.8304 MXN/night\n"
     ]
    }
   ],
   "source": [
    "# MODEL PREDICTION:\n",
    "price_unit_what_if_2 = np.exp(model.predict(what_if_2))[0][0]\n",
    "\n",
    "print('New predicted base price for the unit (adding a conditioning): $', price_unit_what_if_2, 'MXN/night')"
   ]
  },
  {
   "cell_type": "markdown",
   "id": "568c59b6-bd84-419e-b6c8-d0ceb913b416",
   "metadata": {},
   "source": [
    "As we can observe, the binary variable for \"hair dryer\" has a higher SHAP value in our prediction explanation, yet, when we change it, the raise on the price is lower than the raise when adding other amenities as \"conditioning\", for example, which has a much lower SHAP value. The situation we face is a common complexity in machine learning model interpretation:\n",
    "\n",
    "1. **Non-Linearity and Model Complexity:** Our model (NN) captures non-linear relationships, the effect of changing one feature might not be straightforward. The impact of having a dryer might depend on other features in complex and non-intuitive ways.\n",
    "\n",
    "2. **Feature Interactions:** The effect of \"hair dryer\" might be significantly influenced by interactions with other features. For instance, the presence of a dryer might be more valuable in certain locations, property types, or in conjunction with other amenities. If these other influential features are set in a way that they overshadow the importance of a dryer, you might not see the expected increase in price.\n",
    "\n",
    "3. **SHAP Value Interpretation:** A negative SHAP value for \"hair dryer=0\" in the context of our single example suggests that the absence of a dryer is pushing the price prediction lower than the model's average prediction. However, this doesn't necessarily imply that adding a dryer will increase the price in all contexts. SHAP values offer a snapshot of the model's decision logic for a specific instance, considering the entire feature set\n",
    "\n",
    "4. **Baseline and Average Effect:** SHAP values are relative to a baseline, which is typically the average prediction over the training dataset. The negative SHAP value indicates that for this specific instance, not having a dryer is less favorable compared to the average, but it doesn’t guarantee that adding a dryer always increases proportionally the price.\n",
    "\n",
    "> [Alternative] Future steps: research regarding model explainability and association with predicted outcomes"
   ]
  },
  {
   "cell_type": "code",
   "execution_count": null,
   "id": "ce886efd-fd4c-492d-a65f-8d3b56c20a2b",
   "metadata": {},
   "outputs": [],
   "source": []
  }
 ],
 "metadata": {
  "kernelspec": {
   "display_name": "env-ml-airbnb",
   "language": "python",
   "name": "env-ml-airbnb"
  }
 },
 "nbformat": 4,
 "nbformat_minor": 5
}
